{
  "nbformat": 4,
  "nbformat_minor": 0,
  "metadata": {
    "colab": {
      "provenance": [],
      "mount_file_id": "1XlZUrHqLJCjdV4uEVq2pHe0SZqO6NGbh",
      "authorship_tag": "ABX9TyN396Je+IObC4P77NO+rtUs",
      "include_colab_link": true
    },
    "kernelspec": {
      "name": "python3",
      "display_name": "Python 3"
    },
    "language_info": {
      "name": "python"
    }
  },
  "cells": [
    {
      "cell_type": "markdown",
      "metadata": {
        "id": "view-in-github",
        "colab_type": "text"
      },
      "source": [
        "<a href=\"https://colab.research.google.com/github/A-Burnhard/Major-Atmospheric-Gamma-Imaging-Cherenkov-Telescope-project-MAGIC-/blob/main/MAGIC.ipynb\" target=\"_parent\"><img src=\"https://colab.research.google.com/assets/colab-badge.svg\" alt=\"Open In Colab\"/></a>"
      ]
    },
    {
      "cell_type": "code",
      "execution_count": 24,
      "metadata": {
        "id": "ctgl3HqHUpMF"
      },
      "outputs": [],
      "source": [
        "import numpy as np\n",
        "import pandas as pd\n",
        "import matplotlib.pyplot as plt\n",
        "from sklearn.preprocessing import StandardScaler\n",
        "from imblearn.over_sampling import RandomOverSampler"
      ]
    },
    {
      "cell_type": "markdown",
      "source": [
        "**Dataset** \n",
        " 1.Title of Database: MAGIC gamma telescope data 2004\n",
        "\n",
        "2. Sources:\n",
        "\n",
        "   (a) Original owner of the database:\n",
        "\n",
        "       R. K. Bock\n",
        "       Major Atmospheric Gamma Imaging Cherenkov Telescope project (MAGIC)\n",
        "       http://wwwmagic.mppmu.mpg.de\n",
        "       rkb@mail.cern.ch\n"
      ],
      "metadata": {
        "id": "EaCudzq7W0VA"
      }
    },
    {
      "cell_type": "code",
      "source": [
        "cols = [\"fLength\", \"fWidth\", \"fSize\", \"fConc\", \"fConc1\", \"fAsym\", \"fM3Long\", \"fM3Trans\", \"fAlpha\", \"fDist\", \"class\" ]\n",
        "df = pd.read_csv('/magic04.data', names=cols)\n",
        "df.head()\n"
      ],
      "metadata": {
        "id": "oSj92Ti9Yz84"
      },
      "execution_count": null,
      "outputs": []
    },
    {
      "cell_type": "code",
      "source": [
        "df[\"class\"] = (df[\"class\"] == \"g\").astype(int)\n",
        "\n",
        "df.head()"
      ],
      "metadata": {
        "id": "7cE6siDxlFsP"
      },
      "execution_count": null,
      "outputs": []
    },
    {
      "cell_type": "code",
      "source": [
        "for label in cols[:-1]:\n",
        "  data_gamma= df[df[\"class\"]==1][label],\n",
        "  data_hadron = df[df[\"class\"]==0][label], \n",
        " \n",
        "  plt.hist(data_gamma, color='blue',label='gamma', alpha=0.7, density=True, histtype = 'bar')\n",
        "  plt.hist(data_hadron, color='red', label='hadron',alpha=0.7, density=True, histtype = 'bar')\n",
        "  plt.title(label)\n",
        "  plt.ylabel(\"Probability\")\n",
        "  plt.xlabel(label)\n",
        "  plt.legend()\n",
        "  plt.show()"
      ],
      "metadata": {
        "id": "X8HCJ3ZbppuB"
      },
      "execution_count": null,
      "outputs": []
    },
    {
      "cell_type": "markdown",
      "source": [
        "**Train, Validation, test datasets**"
      ],
      "metadata": {
        "id": "c2JA58e_-KZD"
      }
    },
    {
      "cell_type": "markdown",
      "source": [],
      "metadata": {
        "id": "L8He0OlzA20J"
      }
    },
    {
      "cell_type": "code",
      "source": [
        "train, valid, test = np.split(df.sample(frac=1), [int(0.6*len(df)), int(0.8*len(df))])\n"
      ],
      "metadata": {
        "id": "6MNyn4tb-ePc"
      },
      "execution_count": 20,
      "outputs": []
    },
    {
      "cell_type": "markdown",
      "source": [
        "Between 60% and 80% wil go towards validation and from 80% to 100% will be the test data."
      ],
      "metadata": {
        "id": "6iuEeR8odwAG"
      }
    },
    {
      "cell_type": "markdown",
      "source": [
        "**Scaling dataset** using Standard Deviation\n",
        "Hstack = convert to 2D Numpy"
      ],
      "metadata": {
        "id": "GClpSu7sd-9j"
      }
    },
    {
      "cell_type": "code",
      "source": [
        "def scale_dataset(dataframe, oversample):\n",
        "  x = dataframe[dataframe.columns[:-1]].values\n",
        "  y = dataframe[dataframe.columns[-1]].values\n",
        "\n",
        "  scaler= StandardScaler()\n",
        "  x = scaler.fit_transform(x)\n",
        "\n",
        "  if oversample:\n",
        "    ros = RandomOverSampler()\n",
        "    x,y = ros.fit_resample(x,y)\n",
        "\n",
        "  data = np.hstack((x,np.reshape(y,(-1,1))))\n",
        "\n",
        "  return data, x, y"
      ],
      "metadata": {
        "id": "S2M9f23bSXJJ"
      },
      "execution_count": 27,
      "outputs": []
    },
    {
      "cell_type": "code",
      "source": [
        "train, x_train, y_train = scale_dataset(train, oversample=True)"
      ],
      "metadata": {
        "id": "xgR3swV3mU0s"
      },
      "execution_count": 28,
      "outputs": []
    },
    {
      "cell_type": "code",
      "source": [
        "print(len(train[train[\"class\"]==1]))\n",
        "print(len(train[train[\"class\"]==0]))\n"
      ],
      "metadata": {
        "id": "7MSAAA8RVnQG",
        "colab": {
          "base_uri": "https://localhost:8080/"
        },
        "outputId": "9fef299f-e855-461e-ad1f-883a9c984d3a"
      },
      "execution_count": 23,
      "outputs": [
        {
          "output_type": "stream",
          "name": "stdout",
          "text": [
            "7374\n",
            "4038\n"
          ]
        }
      ]
    }
  ]
}